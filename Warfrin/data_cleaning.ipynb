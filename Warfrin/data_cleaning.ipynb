{
 "cells": [
  {
   "cell_type": "code",
   "execution_count": 3,
   "metadata": {},
   "outputs": [],
   "source": [
    "import sys\n",
    "import numpy as np\n",
    "import pandas as pd \n",
    "import csv"
   ]
  },
  {
   "cell_type": "code",
   "execution_count": 4,
   "metadata": {},
   "outputs": [
    {
     "name": "stderr",
     "output_type": "stream",
     "text": [
      "/Users/xiaojicmao/anaconda3/lib/python3.6/site-packages/ipykernel_launcher.py:1: DeprecationWarning: 'U' mode is deprecated\n",
      "  \"\"\"Entry point for launching an IPython kernel.\n"
     ]
    }
   ],
   "source": [
    "f = open('warfrin.csv','rU')\n",
    "csvr = csv.reader(f, dialect=csv.excel)\n",
    "header = next(csvr)\n",
    "data   = list(csvr)\n",
    "f.close()"
   ]
  },
  {
   "cell_type": "code",
   "execution_count": 5,
   "metadata": {},
   "outputs": [],
   "source": [
    "# Only keep subjects that reached stable dose of warfarin and stable observed INR\n",
    "# [37]: 'Subject Reached Stable Dose of Warfarin'\n",
    "# [38]: 'Therapeutic Dose of Warfarin'\n",
    "data = [x for x in data if x[38]!='NA' and x[38] != \"\" and x[37]=='1']\n",
    "# the levels of ages increasing order:\n",
    "agegroups = sorted(set(x[8].replace('NA','') for x in data))"
   ]
  },
  {
   "cell_type": "code",
   "execution_count": 6,
   "metadata": {},
   "outputs": [],
   "source": [
    "xmap = lambda x: \\\n",
    "[   # recommended dose: change data type to float  \n",
    "    (\"therapeut_dose\",  float(x[38])),\n",
    "    # gender 0: one-hot-encoding \n",
    "    ('Male?',x[3]=='male'),\n",
    "    ('Female?', x[3] == 'female'),\n",
    "    # race 1:3: one-hot-encoding \n",
    "    ('White.',x[5]=='White'),\n",
    "    ('Asian.',x[5]=='Asian'),\n",
    "    ('Black.',x[5]=='Black or African American'),\n",
    "    # age 4:5: multiple-valued encoding for age \n",
    "    ('Age group',agegroups.index(x[8]) if x[8] in agegroups else 0), # this exactly gives the decades of age \n",
    "    ('No age?',x[8] not in agegroups or agegroups.index(x[8]) == 0),\n",
    "    # height 6, weight 7: change data type to float \n",
    "    ('Height',float(x[9]) if x[9] not in ('NA', '') else 0.),\n",
    "    ('Weight',float(x[10]) if x[10] not in ('NA', '') else 0.),\n",
    "] + [# Indication for Warfarin Treatment 8:15: one-hot encoding \n",
    "    ('Indication for Warfarin Treatment: '+str(i), str(i) in x[11])\n",
    "    for i in range(1,9)\n",
    "] + [# diabetes 16:17: one-hot-encoding \n",
    "    ('Diabetes=0?',x[13]=='0'),\n",
    "    ('Diabetes=1?',x[13]=='1'),\n",
    "] + [#Congestive Heart Failure and/or Cardiomyopathy 18:19: one-hot-encoding \n",
    "    ('Congestive Heart Failure and/or Cardiomyopathy=0?',x[14]=='0'),\n",
    "    ('Congestive Heart Failure and/or Cardiomyopathy=1?',x[14]=='1'),\n",
    "] + [#Valve Replacement 20:21: one-hot-encoding \n",
    "    ('Valve Replacement=0?',x[15]=='0'),\n",
    "    ('Valve Replacement=1?',x[15]=='1'),\n",
    "] + [\n",
    "    # Aspirin 22:23: one-hot-encoding \n",
    "    ('aspirin=0?',x[17]=='0'),\n",
    "    ('aspirin=1?',x[17]=='1'),\n",
    "    # Acetaminophen or Paracetamol (Tylenol) 24:25: one-hot-encoding \n",
    "    ('Acetaminophen=0?',x[18]=='0'),\n",
    "    ('Acetaminophen=1?',x[18]=='1'),\n",
    "    # Was Dose of Acetaminophen or Paracetamol (Tylenol) >1300mg/day 26:27: one-hot-encoding \n",
    "    ('Acetaminophen hi dose=0?',x[19]=='0'),\n",
    "    ('Acetaminophen hi dose=1?',x[19]=='1'),\n",
    "    # Simvastatin (Zocor) 28:29: one-hot-encoding \n",
    "    ('Simvastatin=0?',x[20]=='0'),\n",
    "    ('Simvastatin=1?',x[20]=='1'),\n",
    "    # Atorvastatin (Lipitor) 30:31: one-hot-encoding \n",
    "    ('Atorvastatin=0?',x[21]=='0'),\n",
    "    ('Atorvastatin=1?',x[21]=='1'),\n",
    "    # Fluvastatin (Lescol) 32:33: one-hot-encoding \n",
    "    ('Fluvastatin=0?',x[22]=='0'),\n",
    "    ('Fluvastatin=1?',x[22]=='1'),\n",
    "    # Lovastatin (Mevacor) 34:35 : one-hot-encoding \n",
    "    ('Lovastatin=0?',x[23]=='0'),\n",
    "    ('Lovastatin=1?',x[23]=='1'),\n",
    "    # Pravastatin (Pravachol) 36:37: one-hot-encoding \n",
    "    ('Pravastatin=0?',x[24]=='0'),\n",
    "    ('Pravastatin=1?',x[24]=='1'),\n",
    "    # Rosuvastatin (Crestor) 38:39: one-hot-encoding \n",
    "    ('Rosuvastatin=0?',x[25]=='0'),\n",
    "    ('Rosuvastatin=1?',x[25]=='1'),\n",
    "    # Cerivastatin (Baycol) 40:41: one-hot-encoding \n",
    "    ('Cerivastatin=0?',x[26]=='0'),\n",
    "    ('Cerivastatin=1?',x[26]=='1'),\n",
    "    # Amiodarone (Cordarone) 42:43: one-hot-encoding \n",
    "    ('Amiodarone=0?',x[27]=='0'),\n",
    "    ('Amiodarone=1?',x[27]=='1'),\n",
    "    # Carbamazepine (Tegretol) 44:45: one-hot-encoding  \n",
    "    ('Carbamazepine=0?',x[28]=='0'),\n",
    "    ('Carbamazepine=1?',x[28]=='1'),\n",
    "    # Phenytoin (Dilantin): one-hot-encoding \n",
    "    ('Phenytoin=0?',x[29]=='0'),\n",
    "    ('Phenytoin=1?',x[29]=='1'),\n",
    "    # Rifampin or Rifampicin: one-hot-encoding \n",
    "    ('Rifampin=0?',x[30]=='0'),\n",
    "    ('Rifampin=1?',x[30]=='1'),\n",
    "    # Sulfonamide Antibiotics: one-hot-encoding \n",
    "    ('Sulfonamide Antibiotics=0?',x[31]=='0'),\n",
    "    ('Sulfonamide Antibiotics=1?',x[31]=='1'),\n",
    "    # Macrolide Antibiotics: one-hot-encoding \n",
    "    ('Macrolide Antibiotics=0?',x[32]=='0'),\n",
    "    ('Macrolide Antibiotics=1?',x[32]=='1'),\n",
    "    # Anti-fungal Azoles: one-hot-encoding \n",
    "    ('Anti-fungal Azoles=0?',x[33]=='0'),\n",
    "    ('Anti-fungal Azoles=1?',x[33]=='1'),\n",
    "    # Herbal Medications, Vitamins, Supplements: one-hot-encoding \n",
    "    ('Herbal Medications, Vitamins, Supplements=0?',x[34]=='0'),\n",
    "    ('Herbal Medications, Vitamins, Supplements=1?',x[34]=='1'),\n",
    "] + [\n",
    "    #smoker: one-hot-encoding \n",
    "    ('Smoker=0?',x[40]=='0'),\n",
    "    ('Smoker=1?',x[40]=='1'),\n",
    "] + [\n",
    "    # CYP2C9 consensus: all other values are grouped into a single level, one-hot-encoding \n",
    "    ('CYP2C9 *1/*1',x[59]=='*1/*1'),\n",
    "    ('CYP2C9 *1/*2',x[59]=='*1/*2'),\n",
    "    ('CYP2C9 *1/*3',x[59]=='*1/*3'),\n",
    "    ('CYP2C9 NA',x[59]=='' or x[59]=='NA'),\n",
    "    # VKORC1 -1639 consensus: one-hot-encoding \n",
    "    ('VKORC1 -1639 A/A',x[60]=='A/A'),\n",
    "    ('VKORC1 -1639 A/G',x[60]=='A/G'),\n",
    "    ('VKORC1 -1639 G/G',x[60]=='G/G'),\n",
    "    # VKORC1 497 consensus: one-hot-encoding \n",
    "    ('VKORC1 497 T/T',x[61]=='T/T'),\n",
    "    ('VKORC1 497 G/T',x[61]=='G/T'),\n",
    "    ('VKORC1 497 G/G',x[61]=='G/G'),\n",
    "    # VKORC1 1173 consensus: one-hot-encoding \n",
    "    ('VKORC1 1173 T/T',x[62]=='T/T'),\n",
    "    ('VKORC1 1173 C/T',x[62]=='C/T'),\n",
    "    ('VKORC1 1173 C/C',x[62]=='C/C'),\n",
    "    # VKORC1 1542 consensus: one-hot-encoding \n",
    "    ('VKORC1 1542 C/C',x[63]=='C/C'),\n",
    "    ('VKORC1 1542 C/G',x[63]=='C/G'),\n",
    "    ('VKORC1 1542 G/G',x[63]=='G/G'),\n",
    "    # VKORC1 3730 consensus: one-hot-encoding \n",
    "    ('VKORC1 3730 A/A',x[64]=='A/A'),\n",
    "    ('VKORC1 3730 A/G',x[64]=='A/G'),\n",
    "    ('VKORC1 3730 G/G',x[64]=='G/G'),\n",
    "    # VKORC1 2255 consensus: one-hot-encoding \n",
    "    ('VKORC1 2255 C/C',x[65]=='C/C'),\n",
    "    ('VKORC1 2255 C/T',x[65]=='C/T'),\n",
    "    ('VKORC1 2255 T/T',x[65]=='T/T'),\n",
    "    # VKORC1 -4451 consensus: one-hot-encoding \n",
    "    ('VKORC1 -4451 C/C',x[66]=='C/C'),\n",
    "    ('VKORC1 -4451 A/C',x[66]=='A/C'),\n",
    "    ('VKORC1 -4451 A/A',x[66]=='A/A')\n",
    "]"
   ]
  },
  {
   "cell_type": "code",
   "execution_count": 7,
   "metadata": {},
   "outputs": [],
   "source": [
    "X       = np.array([list(zip(*xmap(x)))[1] for x in data])\n",
    "Xnames  = np.array(list(zip(*xmap(data[0])))[0])\n",
    "name_list = list(Xnames)"
   ]
  },
  {
   "cell_type": "code",
   "execution_count": 11,
   "metadata": {},
   "outputs": [],
   "source": [
    "# remove obs with unknown race (461 obs with value \"\")\n",
    "goodidx = X[:, name_list.index('White.')] + X[:, name_list.index('Asian.')] + X[:, name_list.index('Black.')] == 1\n",
    "X = X[goodidx, :]\n",
    "# remove obs with unknown gender (the same 461 obs as race (\"\"), plus 4 extra obs (\"NA\"))\n",
    "goodidx = X[:, name_list.index('Male?')] + X[:, name_list.index('Female?')] == 1\n",
    "X = X[goodidx, :]\n",
    "# remove obs with missing age: exactly the same 461 obs have un knwon race (\"\"), plus 42 extra obs (\"NA\")\n",
    "goodidx = X[:, name_list.index('No age?')] != 1\n",
    "X = X[goodidx, :]"
   ]
  },
  {
   "cell_type": "code",
   "execution_count": 12,
   "metadata": {},
   "outputs": [],
   "source": [
    "final_data = pd.DataFrame(data = X, columns = Xnames)"
   ]
  },
  {
   "cell_type": "code",
   "execution_count": 13,
   "metadata": {},
   "outputs": [],
   "source": [
    "final_data.to_csv(\"warfarin_clean.csv\")"
   ]
  },
  {
   "cell_type": "code",
   "execution_count": null,
   "metadata": {},
   "outputs": [],
   "source": []
  },
  {
   "cell_type": "code",
   "execution_count": null,
   "metadata": {},
   "outputs": [],
   "source": []
  },
  {
   "cell_type": "code",
   "execution_count": null,
   "metadata": {},
   "outputs": [],
   "source": []
  },
  {
   "cell_type": "code",
   "execution_count": null,
   "metadata": {},
   "outputs": [],
   "source": []
  }
 ],
 "metadata": {
  "kernelspec": {
   "display_name": "Python 3",
   "language": "python",
   "name": "python3"
  },
  "language_info": {
   "codemirror_mode": {
    "name": "ipython",
    "version": 3
   },
   "file_extension": ".py",
   "mimetype": "text/x-python",
   "name": "python",
   "nbconvert_exporter": "python",
   "pygments_lexer": "ipython3",
   "version": "3.6.10"
  }
 },
 "nbformat": 4,
 "nbformat_minor": 4
}
